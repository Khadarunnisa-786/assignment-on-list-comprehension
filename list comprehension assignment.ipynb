{
 "cells": [
  {
   "cell_type": "markdown",
   "id": "6102ff18-5911-4761-91e9-7b39540cfd29",
   "metadata": {},
   "source": [
    "# Basic List Comprehension"
   ]
  },
  {
   "cell_type": "markdown",
   "id": "38b7f6ae-ac7f-4ab5-994b-1e05ffdc684d",
   "metadata": {},
   "source": [
    "Create a list of squares of numbers from 1 to 10 using list comprehension.\n"
   ]
  },
  {
   "cell_type": "code",
   "execution_count": 11,
   "id": "41195e5a-b8bd-471d-bd93-05a09d4d2249",
   "metadata": {},
   "outputs": [
    {
     "data": {
      "text/plain": [
       "[1, 4, 9, 16, 25, 36, 49, 64, 81, 100]"
      ]
     },
     "execution_count": 11,
     "metadata": {},
     "output_type": "execute_result"
    }
   ],
   "source": [
    " [i**2 for i in range(1, 11)]"
   ]
  },
  {
   "cell_type": "markdown",
   "id": "cb942504-fed3-4779-9d43-12320088dc4e",
   "metadata": {},
   "source": [
    "Generate a list of even numbers from 1 to 20 using list comprehension.\n"
   ]
  },
  {
   "cell_type": "code",
   "execution_count": 12,
   "id": "bcd809e3-c8cf-4009-af3c-6d709635168d",
   "metadata": {},
   "outputs": [
    {
     "data": {
      "text/plain": [
       "[2, 4, 6, 8, 10, 12, 14, 16, 18, 20]"
      ]
     },
     "execution_count": 12,
     "metadata": {},
     "output_type": "execute_result"
    }
   ],
   "source": [
    "[ i for i in range(1,21) if i % 2 ==0]"
   ]
  },
  {
   "cell_type": "markdown",
   "id": "7f3e3e36-7bd7-4e93-a41a-aac1945e63bd",
   "metadata": {},
   "source": [
    "Create a list of the first letters of each word in the list: [\"apple\", \"banana\", \"cherry\", \"date\"].\n"
   ]
  },
  {
   "cell_type": "code",
   "execution_count": 25,
   "id": "df02238d-0571-4ae5-a57a-c78d2f2b6450",
   "metadata": {},
   "outputs": [
    {
     "data": {
      "text/plain": [
       "['a', 'b', 'c', 'd']"
      ]
     },
     "execution_count": 25,
     "metadata": {},
     "output_type": "execute_result"
    }
   ],
   "source": [
    "l = [\"apple\", \"banana\", \"cherry\", \"date\"]\n",
    "[i[0] for i in l]\n",
    "\n"
   ]
  },
  {
   "cell_type": "markdown",
   "id": "e81426bc-0cf2-47c5-84c1-ddb8b3e09cde",
   "metadata": {},
   "source": [
    "Convert a list of temperatures in Celsius [0, 10, 20, 30, 40] to Fahrenheit using list comprehension. (Formula: F = (C * 9/5) + 32)\n"
   ]
  },
  {
   "cell_type": "code",
   "execution_count": 24,
   "id": "dd06018f-c16e-492c-8c39-8b13aa879974",
   "metadata": {},
   "outputs": [
    {
     "data": {
      "text/plain": [
       "[32.0, 50.0, 68.0, 86.0, 104.0]"
      ]
     },
     "execution_count": 24,
     "metadata": {},
     "output_type": "execute_result"
    }
   ],
   "source": [
    "celsius = [0, 10, 20, 30, 40]\n",
    "[(c * 9/5) + 32 for c in celsius]"
   ]
  },
  {
   "cell_type": "markdown",
   "id": "2461d7c4-ab1c-40ec-a749-bf7a3b5f1814",
   "metadata": {},
   "source": [
    "Create a list of the first 10 natural numbers using list comprehension.\n"
   ]
  },
  {
   "cell_type": "code",
   "execution_count": 13,
   "id": "6102d2bd-0b42-4ec2-975f-48425fc94d95",
   "metadata": {},
   "outputs": [
    {
     "name": "stdout",
     "output_type": "stream",
     "text": [
      "[1, 2, 3, 4, 5, 6, 7, 8, 9, 10]\n"
     ]
    }
   ],
   "source": [
    "natural = [ i for i in range(1,11)]\n",
    "print(natural)"
   ]
  },
  {
   "cell_type": "markdown",
   "id": "741f9214-3a7e-4001-a9aa-9dceed94677d",
   "metadata": {},
   "source": [
    "Generate a list of cubes of numbers from 1 to 10.\n"
   ]
  },
  {
   "cell_type": "code",
   "execution_count": 23,
   "id": "47f10660-1025-4aff-b431-4482e12436bd",
   "metadata": {},
   "outputs": [
    {
     "name": "stdout",
     "output_type": "stream",
     "text": [
      "[1, 8, 27, 64, 125, 216, 343, 512, 729, 1000]\n"
     ]
    }
   ],
   "source": [
    "cubes = [ i**3 for i in  range(1,11)]\n",
    "print(cubes)"
   ]
  },
  {
   "cell_type": "markdown",
   "id": "25a2c9b9-791a-421f-9ed8-9940c157e1f5",
   "metadata": {},
   "source": [
    "Extract the first character from each word in the list: [\"apple\", \"banana\", \"cherry\", \"date\"].\n"
   ]
  },
  {
   "cell_type": "code",
   "execution_count": 21,
   "id": "832910d5-7bca-4965-b521-758d3b52eb64",
   "metadata": {},
   "outputs": [
    {
     "data": {
      "text/plain": [
       "['a', 'b', 'c', 'd']"
      ]
     },
     "execution_count": 21,
     "metadata": {},
     "output_type": "execute_result"
    }
   ],
   "source": [
    "l = [\"apple\", \"banana\", \"cherry\", \"date\"]\n",
    "[i[0] for i in l]\n",
    "\n"
   ]
  },
  {
   "cell_type": "markdown",
   "id": "622fb2de-7c93-496b-a03f-ed3c0eb8db34",
   "metadata": {},
   "source": [
    "Given a string \"Python is fun\", create a list of words in the string.\n"
   ]
  },
  {
   "cell_type": "code",
   "execution_count": 20,
   "id": "34bd6481-7ee4-4b69-8141-be07ce275529",
   "metadata": {},
   "outputs": [
    {
     "data": {
      "text/plain": [
       "['Python', 'is', 'fun']"
      ]
     },
     "execution_count": 20,
     "metadata": {},
     "output_type": "execute_result"
    }
   ],
   "source": [
    "s = \"Python is fun\"\n",
    "s.split()\n"
   ]
  },
  {
   "cell_type": "markdown",
   "id": "c7db478d-468f-44fc-9f2c-0ea64cbbe36c",
   "metadata": {},
   "source": [
    "Convert a list of strings [\"Hello\", \"World\", \"Python\"] to uppercase using list comprehension.\n"
   ]
  },
  {
   "cell_type": "code",
   "execution_count": 2,
   "id": "6cb86e7a-6fe6-4e7f-acde-113df9c036bb",
   "metadata": {},
   "outputs": [
    {
     "data": {
      "text/plain": [
       "['HELLO', 'WORLD', 'PYTHON']"
      ]
     },
     "execution_count": 2,
     "metadata": {},
     "output_type": "execute_result"
    }
   ],
   "source": [
    "strings = [\"Hello\", \"World\", \"Python\"]\n",
    "[s.upper() for s in strings]\n",
    "\n"
   ]
  },
  {
   "cell_type": "markdown",
   "id": "66f60f4e-2d96-4c13-bc5a-cf33e8f5a15f",
   "metadata": {},
   "source": [
    " # Conditional List Comprehension\n"
   ]
  },
  {
   "cell_type": "markdown",
   "id": "e658655b-5316-4fc6-bbe9-672805e6be68",
   "metadata": {},
   "source": [
    "Create a list of numbers from 1 to 50 that are divisible by both 3 and 5.\n"
   ]
  },
  {
   "cell_type": "code",
   "execution_count": 29,
   "id": "6e639e9c-4972-463c-837f-942c6053e5a3",
   "metadata": {},
   "outputs": [
    {
     "data": {
      "text/plain": [
       "[15, 30, 45]"
      ]
     },
     "execution_count": 29,
     "metadata": {},
     "output_type": "execute_result"
    }
   ],
   "source": [
    "l = range(1,51)\n",
    "[ i for i in l if i %3 == 0 and i % 5==0]"
   ]
  },
  {
   "cell_type": "markdown",
   "id": "e26b8d40-d08e-4c05-8298-01890a549308",
   "metadata": {},
   "source": [
    "Given a list of numbers [1, 2, 3, 4, 5, 6, 7, 8, 9, 10], create a new list containing only the odd numbers.\n"
   ]
  },
  {
   "cell_type": "code",
   "execution_count": 31,
   "id": "a588f370-70ad-4e70-bdab-0e906de25a0c",
   "metadata": {},
   "outputs": [
    {
     "data": {
      "text/plain": [
       "[1, 3, 5, 7, 9]"
      ]
     },
     "execution_count": 31,
     "metadata": {},
     "output_type": "execute_result"
    }
   ],
   "source": [
    "l = [1,2,3,4,5,6,7,8,9,10]\n",
    "[ i for i in l if i %2!=0]"
   ]
  },
  {
   "cell_type": "markdown",
   "id": "f1ddc484-6b39-4515-9fe8-39f734f02548",
   "metadata": {},
   "source": [
    "Given a string \"hello world\", create a list of vowels present in the string.\n"
   ]
  },
  {
   "cell_type": "code",
   "execution_count": 35,
   "id": "497b7b59-83c4-437f-b805-0cb2f83e7b45",
   "metadata": {},
   "outputs": [
    {
     "data": {
      "text/plain": [
       "['e', 'o', 'o']"
      ]
     },
     "execution_count": 35,
     "metadata": {},
     "output_type": "execute_result"
    }
   ],
   "source": [
    "s =  \"hello world\"\n",
    "[ i for i in s if i in 'aeiou']"
   ]
  },
  {
   "cell_type": "markdown",
   "id": "05f595a7-a95d-4992-8979-e6964d5c7fa3",
   "metadata": {},
   "source": [
    "Convert a list of words [\"Hello\", \"WORLD\", \"Python\", \"LiSt\"] to lowercase using list comprehension.\n"
   ]
  },
  {
   "cell_type": "code",
   "execution_count": 3,
   "id": "70596144-e176-4655-85b4-23f32f77fc37",
   "metadata": {},
   "outputs": [
    {
     "data": {
      "text/plain": [
       "['hello', 'world', 'python', 'list']"
      ]
     },
     "execution_count": 3,
     "metadata": {},
     "output_type": "execute_result"
    }
   ],
   "source": [
    "list = [\"Hello\", \"WORLD\", \"Python\", \"LiSt\"]\n",
    "[l.lower() for l in list]\n",
    "\n"
   ]
  },
  {
   "cell_type": "markdown",
   "id": "454bbc93-ffb8-4005-88c7-807fd0c6b59a",
   "metadata": {},
   "source": [
    "Create a list of even numbers from 1 to 50.\n"
   ]
  },
  {
   "cell_type": "code",
   "execution_count": 5,
   "id": "cf43844d-df1d-4edf-8b49-fce637a8c612",
   "metadata": {},
   "outputs": [
    {
     "data": {
      "text/plain": [
       "[2,\n",
       " 4,\n",
       " 6,\n",
       " 8,\n",
       " 10,\n",
       " 12,\n",
       " 14,\n",
       " 16,\n",
       " 18,\n",
       " 20,\n",
       " 22,\n",
       " 24,\n",
       " 26,\n",
       " 28,\n",
       " 30,\n",
       " 32,\n",
       " 34,\n",
       " 36,\n",
       " 38,\n",
       " 40,\n",
       " 42,\n",
       " 44,\n",
       " 46,\n",
       " 48,\n",
       " 50]"
      ]
     },
     "execution_count": 5,
     "metadata": {},
     "output_type": "execute_result"
    }
   ],
   "source": [
    "[ i for i in range(1,51) if i %2 ==0]"
   ]
  },
  {
   "cell_type": "markdown",
   "id": "f116b3ed-d5cb-4bde-b5f3-a0115cc2c2c4",
   "metadata": {},
   "source": [
    "Generate a list of numbers from 1 to 20 that are not divisible by 3.\n"
   ]
  },
  {
   "cell_type": "code",
   "execution_count": 6,
   "id": "bc23e59c-f35c-4d48-b755-480cf7377e5d",
   "metadata": {},
   "outputs": [
    {
     "data": {
      "text/plain": [
       "[1, 2, 4, 5, 7, 8, 10, 11, 13, 14, 16, 17, 19, 20]"
      ]
     },
     "execution_count": 6,
     "metadata": {},
     "output_type": "execute_result"
    }
   ],
   "source": [
    "[ i for i in range(1,21) if i %3 !=0]"
   ]
  },
  {
   "cell_type": "markdown",
   "id": "8bcc5a1e-6589-42ba-bba2-d111feff18c1",
   "metadata": {},
   "source": [
    "Given a list [5, 12, 17, 9, 3, 21, 30], create a new list containing only numbers greater than 10.\n"
   ]
  },
  {
   "cell_type": "code",
   "execution_count": 7,
   "id": "a4877b1b-7843-4658-87d0-2682dbe3b1c8",
   "metadata": {},
   "outputs": [
    {
     "data": {
      "text/plain": [
       "[12, 17, 21, 30]"
      ]
     },
     "execution_count": 7,
     "metadata": {},
     "output_type": "execute_result"
    }
   ],
   "source": [
    "l =  [5, 12, 17, 9, 3, 21, 30]\n",
    "[ i for i in l if i >10]"
   ]
  },
  {
   "cell_type": "markdown",
   "id": "64b9d70f-e252-492c-8611-5f5b911e8daa",
   "metadata": {},
   "source": [
    "Create a list of squares of only the even numbers from 1 to 10.\n"
   ]
  },
  {
   "cell_type": "code",
   "execution_count": 2,
   "id": "7d840878-da6a-4978-953a-5343583e0c58",
   "metadata": {},
   "outputs": [
    {
     "data": {
      "text/plain": [
       "[4, 16, 36, 64, 100]"
      ]
     },
     "execution_count": 2,
     "metadata": {},
     "output_type": "execute_result"
    }
   ],
   "source": [
    "[i**2 for i in range(1, 11) if i % 2 == 0]"
   ]
  },
  {
   "cell_type": "markdown",
   "id": "a88227bb-f1bc-437c-9167-9b7f8c38459d",
   "metadata": {},
   "source": [
    "Given a list of words [\"dog\", \"elephant\", \"cat\", \"rabbit\"], create a new list containing only words with more than 3 letters."
   ]
  },
  {
   "cell_type": "code",
   "execution_count": 5,
   "id": "a348c3e3-d422-455a-9ce9-abab624e0c4f",
   "metadata": {},
   "outputs": [
    {
     "data": {
      "text/plain": [
       "['elephant', 'rabbit']"
      ]
     },
     "execution_count": 5,
     "metadata": {},
     "output_type": "execute_result"
    }
   ],
   "source": [
    "l =  [\"dog\", \"elephant\", \"cat\", \"rabbit\"]\n",
    "[i for i in l if len(i)>3]"
   ]
  },
  {
   "cell_type": "code",
   "execution_count": null,
   "id": "0c02ecea-2240-4f91-a8dd-7e140fabdda9",
   "metadata": {},
   "outputs": [],
   "source": []
  }
 ],
 "metadata": {
  "kernelspec": {
   "display_name": "Python 3 (ipykernel)",
   "language": "python",
   "name": "python3"
  },
  "language_info": {
   "codemirror_mode": {
    "name": "ipython",
    "version": 3
   },
   "file_extension": ".py",
   "mimetype": "text/x-python",
   "name": "python",
   "nbconvert_exporter": "python",
   "pygments_lexer": "ipython3",
   "version": "3.13.5"
  }
 },
 "nbformat": 4,
 "nbformat_minor": 5
}
